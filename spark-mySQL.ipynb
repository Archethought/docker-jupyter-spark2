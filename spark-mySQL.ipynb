{
 "cells": [
  {
   "cell_type": "markdown",
   "metadata": {},
   "source": [
    "# Proof of Concept - Read from MySQL Database\n",
    "\n",
    "## Setup Steps\n",
    "\n",
    "### Names\n",
    "Go ahead and define what to name the parts.\n",
    "```\n",
    "export MYSQL_SERVER_CONTAINER=\"mysql-db\"\n",
    "export MYSQL_ROOT_PASSWORD=\"datascience\" \n",
    "export DB_DOCKER_NETWORK=\"dbnet\"\n",
    "```\n",
    "\n",
    "### Networking\n",
    "Create a separate network for database containers, or just use the default docker bridge network, \"bridge\".\n",
    "Containers must be in the same network to communicate.\n",
    "```\n",
    "docker network create --driver bridge $DB_DOCKER_NETWORK\n",
    "```\n",
    "\n",
    "### Database Server\n",
    "\n",
    "```\n",
    "docker run --detach --name=$MYSQL_SERVER_CONTAINER --net=$DB_DOCKER_NETWORK --env=\"MYSQL_ROOT_PASSWORD=$MYSQL_ROOT_PASSWORD\" -p 6603:3306 mysql\n",
    "```\n",
    "\n",
    "This will use the [official mysql docker image](https://hub.docker.com/_/mysql/) to create a database server container with root password $MYSQL_ROOT_PASSWORD (defined above).\n",
    "Capture the IP address of the DB server container with `docker inspect mysql-db | grep -i 'ipaddress'`\n",
    "This will yeild something like\n",
    "```\n",
    "            \"SecondaryIPAddresses\": null,\n",
    "            \"IPAddress\": \"\",\n",
    "                    \"IPAddress\": \"172.18.0.4\",\n",
    "```\n",
    "\n",
    "### Command Line Client\n",
    "To create a database and add data, access the mySql server through a command line by creating another mysql container linked to the server container. \n",
    "This container will only exist until you exit the mysql command prompt. \n",
    "Assume data you want to load into the database is in `/home/cownby/data/` on the host system.\n",
    "(Note no shell variable substitution inside single quotes.)\n",
    "```\n",
    "docker run -it -v \"/home/cownby/data/\":\"/data\" --net=$DB_DOCKER_NETWORK --link \"$MYSQL_SERVER_CONTAINER\":mysql --rm mysql sh -c 'exec mysql -h172.18.0.4 -uroot -p'\n",
    "\n",
    "```\n",
    "You will be prompted for the password, $MYSQL_ROOT_PASSWORD\n",
    "\n",
    "### Sample SQL Commands\n",
    "\n",
    "```SQL\n",
    "/*  \n",
    "Assume volume is mounted to `/data` and data is in file `supers.csv`.\n",
    "\n",
    "sample data:\n",
    "id,firstName,lastName,superpower,goodDeeds,maxSpeed\n",
    "0,100,carolyn,ownby,smile,72,15.5\n",
    "0,200,krizia,conrad,good food!,80,25.7\n",
    "0,300,jordan,dick,roadster,30,80.25\n",
    "0,400,dixon,dick,vision,65,56.8\n",
    "\n",
    "*/\n",
    "\n",
    "create database giskard;\n",
    "use giskard;\n",
    "create table supers (\n",
    "\tkey_id      int NOT NULL AUTO_INCREMENT UNIQUE,\n",
    "\timport_id   int,\n",
    "\tfirst_name  varchar(20),\n",
    "\tlast_name   varchar(20),\n",
    "\tsuper_power varchar(20),\n",
    "\tgood_deeds  int,\n",
    "\tmax_speed   float\n",
    ");\n",
    "\n",
    "load data local infile '/data/supers.csv'\n",
    "      into table supers\n",
    "      fields terminated by ','\n",
    "      lines terminated by '\\n'\n",
    "      ignore 1 rows;\n",
    "```\n",
    "\n",
    "\n",
    "## References\n",
    "\n",
    "* [Excel to MySQL](http://www.prcconsulting.net/2016/10/migrating-an-excel-spreadsheet-to-mysql-and-to-spark-2-0-1-part-1/)  \n",
    "This is NOT done programmatically, but by simply exporting an excel sheet as csv and importing into mySQL.\n",
    "* [Spark & MySQL](http://www.prcconsulting.net/wp-content/uploads/2016/10/Connect_MySQL.py_-1.html)\n",
    "* [Spark & database properties](http://spark.apache.org/docs/latest/sql-programming-guide.html#jdbc-to-other-databases)\n",
    "* [tutorial](http://severalnines.com/blog/mysql-docker-containers-understanding-basics)\n",
    "* [official mysql docker repository](https://hub.docker.com/_/mysql/)\n",
    "\n",
    "\n",
    "##  Test Notes\n",
    "Commands used (frequently!) to create the image & container for this notebook\n",
    "```\n",
    "export DB_NOTEBOOK_IMAGE=\"mysql-notebook-image\"\n",
    "export DB_NOTEBOOK_CONTAINER=\"mysql-notebook\"\n",
    "\n",
    "# create image for spark-mysql-python\n",
    "time docker build -t $DB_NOTEBOOK_IMAGE . 1>build.log 2>build.err  ;ll\n",
    " \n",
    "# create container for spark-mysql-python\n",
    "docker run -d -p 8826:8888  -e GRANT_SUDO=yes --user root --net=$DB_DOCKER_NETWORK --name=$DB_NOTEBOOK_CONTAINER --link $MYSQL_SERVER_CONTAINER:$DB_NOTEBOOK_CONTAINER  $DB_NOTEBOOK_IMAGE  start-notebook.sh\n",
    " \n",
    "# clean up spark-mysql-python image & container\n",
    " docker stop $DB_NOTEBOOK_CONTAINER ;docker rm $DB_NOTEBOOK_CONTAINER ;docker rmi $DB_NOTEBOOK_IMAGE\n",
    "```"
   ]
  },
  {
   "cell_type": "code",
   "execution_count": 1,
   "metadata": {
    "collapsed": false
   },
   "outputs": [
    {
     "data": {
      "text/plain": [
       "u'2.0.2'"
      ]
     },
     "execution_count": 1,
     "metadata": {},
     "output_type": "execute_result"
    }
   ],
   "source": [
    "# Basic setup required in all notebooks\n",
    " \n",
    "import os\n",
    "from pyspark.sql import SparkSession\n",
    "from pyspark.sql.types import *\n",
    "from pyspark import SparkContext, SparkConf\n",
    "\n",
    "# Define an arbitrary application name & stand-alone Spark cluster\n",
    "appName='archetest'\n",
    "master='local[*]' #local spark-master\n",
    "\n",
    "# Explicitly define python 2 since we have both versions 2 & 3 installed\n",
    "os.environ['PYSPARK_PYTHON'] = '/opt/conda/envs/python2/bin/python'\n",
    "\n",
    "# Create spark context with which we will reference the Spark API\n",
    "spark = (SparkSession\n",
    "         .builder\n",
    "         .master(master)\n",
    "         .config(conf=SparkConf())  \n",
    "         .appName(appName)\n",
    "         .getOrCreate()\n",
    "        )\n",
    "\n",
    "spark.version\n"
   ]
  },
  {
   "cell_type": "code",
   "execution_count": 3,
   "metadata": {
    "collapsed": true
   },
   "outputs": [],
   "source": [
    "# constants\n",
    "MYSQL_DATABASE = 'giskard'\n",
    "MYSQL_PASSWORD = 'ds'\n",
    "MYSQL_USER='root'\n",
    "DB_SERVER_IP='172.18.0.4'\n",
    "TEST_TABLE='supers'"
   ]
  },
  {
   "cell_type": "code",
   "execution_count": 4,
   "metadata": {
    "collapsed": false
   },
   "outputs": [
    {
     "name": "stdout",
     "output_type": "stream",
     "text": [
      "Hit http://security.debian.org jessie/updates InRelease\n",
      "Get:1 http://security.debian.org jessie/updates/main amd64 Packages [431 kB]\n",
      "Ign http://httpredir.debian.org jessie InRelease\n",
      "Get:2 http://httpredir.debian.org jessie-updates InRelease [145 kB]\n",
      "Hit http://httpredir.debian.org jessie Release.gpg\n",
      "Hit http://repos.mesosphere.io wheezy InRelease\n",
      "Hit http://httpredir.debian.org jessie Release\n",
      "Get:3 http://httpredir.debian.org jessie-updates/main amd64 Packages [17.6 kB]\n",
      "Get:4 http://repos.mesosphere.io wheezy/main amd64 Packages [3,641 B]\n",
      "Get:5 http://httpredir.debian.org jessie/main amd64 Packages [9,049 kB]\n",
      "Fetched 9,646 kB in 6s (1,382 kB/s)\n",
      "Reading package lists... Done\n",
      "Reading package lists... Done\n",
      "Building dependency tree       \n",
      "Reading state information... Done\n",
      "python-mysqldb is already the newest version.\n",
      "0 upgraded, 0 newly installed, 0 to remove and 83 not upgraded.\n",
      "carolyn\n",
      "krizia\n",
      "jordan\n",
      "dixon\n"
     ]
    }
   ],
   "source": [
    "# verify can connect to database just through python\n",
    "# no other installs required from base notebook container to access mysql via python,\n",
    "# but the containers must be in the same network.\n",
    "!sudo apt-get update && sudo apt-get install -y python-mysqldb\n",
    "\n",
    "# from https://pypi.python.org/pypi/MySQL-python/1.2.5\n",
    "import MySQLdb\n",
    "\n",
    "db = MySQLdb.connect(host=DB_SERVER_IP,     # your host, usually localhost\n",
    "                     user=MYSQL_USER,       # your username\n",
    "                     passwd=MYSQL_PASSWORD, # your password\n",
    "                     db=MYSQL_DATABASE)     # name of the data base\n",
    "\n",
    "\n",
    "# you must create a Cursor object. It will let\n",
    "#  you execute all the queries you need\n",
    "cur = db.cursor()\n",
    "\n",
    "# Use all the SQL you like\n",
    "cur.execute(\"SELECT * FROM \"+TEST_TABLE)\n",
    "\n",
    "# print all the first cell of all the rows\n",
    "for row in cur.fetchall():\n",
    "    print row[2]\n",
    "\n",
    "db.close()"
   ]
  },
  {
   "cell_type": "code",
   "execution_count": 5,
   "metadata": {
    "collapsed": false
   },
   "outputs": [
    {
     "name": "stdout",
     "output_type": "stream",
     "text": [
      "Row(key_id=4, import_id=100, first_name=u'carolyn', last_name=u'ownby', super_power=u'smile', good_deeds=72, max_speed=15.5)\n",
      "root\n",
      " |-- key_id: integer (nullable = false)\n",
      " |-- import_id: integer (nullable = true)\n",
      " |-- first_name: string (nullable = true)\n",
      " |-- last_name: string (nullable = true)\n",
      " |-- super_power: string (nullable = true)\n",
      " |-- good_deeds: integer (nullable = true)\n",
      " |-- max_speed: double (nullable = true)\n",
      "\n"
     ]
    }
   ],
   "source": [
    "\n",
    "URL = 'jdbc:mysql://{0}/{1}'.format(DB_SERVER_IP,MYSQL_DATABASE)\n",
    "\n",
    "df = (spark.read.format('jdbc')\n",
    "      .options(\n",
    "        url=URL,\n",
    "        user=MYSQL_USER,\n",
    "        password=MYSQL_PASSWORD,\n",
    "        dbtable=TEST_TABLE,\n",
    "        driver='com.mysql.jdbc.Driver')\n",
    "      .load()\n",
    "     )\n",
    "\n",
    "print df.head()\n",
    "df.printSchema()"
   ]
  },
  {
   "cell_type": "code",
   "execution_count": 6,
   "metadata": {
    "collapsed": false
   },
   "outputs": [
    {
     "data": {
      "text/plain": [
       "{'APACHE_SPARK_VERSION': '2.0.2',\n",
       " 'CLICOLOR': '1',\n",
       " 'CONDA_DIR': '/opt/conda',\n",
       " 'DEBIAN_FRONTEND': 'noninteractive',\n",
       " 'GIT_PAGER': 'cat',\n",
       " 'GRANT_SUDO': 'yes',\n",
       " 'HOME': '/home/jovyan',\n",
       " 'HOSTNAME': '5045900c3521',\n",
       " 'JPY_PARENT_PID': '9',\n",
       " 'LANG': 'en_US.UTF-8',\n",
       " 'LANGUAGE': 'en_US.UTF-8',\n",
       " 'LC_ALL': 'en_US.UTF-8',\n",
       " 'LOGNAME': 'jovyan',\n",
       " 'MAIL': '/var/mail/jovyan',\n",
       " 'MESOS_NATIVE_LIBRARY': '/usr/local/lib/libmesos.so',\n",
       " 'NB_UID': '1000',\n",
       " 'NB_USER': 'jovyan',\n",
       " 'PAGER': 'cat',\n",
       " 'PATH': '/opt/conda/bin:/usr/local/sbin:/usr/local/bin:/usr/sbin:/usr/bin:/sbin:/bin',\n",
       " 'PWD': '/home/jovyan/work',\n",
       " 'PYSPARK_PYTHON': '/opt/conda/envs/python2/bin/python',\n",
       " 'PYTHONPATH': '/usr/local/spark/python:/usr/local/spark/python/lib/py4j-0.10.4-src.zip:/usr/lib/python2.7/dist-packages',\n",
       " 'R_LIBS_USER': '/usr/local/spark/R/lib',\n",
       " 'SHELL': '/bin/bash',\n",
       " 'SHLVL': '1',\n",
       " 'SPARK_HOME': '/usr/local/spark',\n",
       " 'SPARK_OPTS': '--driver-java-options=-Xms1024M --driver-java-options=-Xmx4096M --driver-java-options=-Dlog4j.logLevel=info',\n",
       " 'TERM': 'xterm-color',\n",
       " 'USER': 'jovyan',\n",
       " '_': '/usr/bin/env'}"
      ]
     },
     "execution_count": 6,
     "metadata": {},
     "output_type": "execute_result"
    }
   ],
   "source": [
    "%env"
   ]
  },
  {
   "cell_type": "code",
   "execution_count": null,
   "metadata": {
    "collapsed": true
   },
   "outputs": [],
   "source": []
  }
 ],
 "metadata": {
  "kernelspec": {
   "display_name": "Python 2",
   "language": "python",
   "name": "python2"
  },
  "language_info": {
   "codemirror_mode": {
    "name": "ipython",
    "version": 2
   },
   "file_extension": ".py",
   "mimetype": "text/x-python",
   "name": "python",
   "nbconvert_exporter": "python",
   "pygments_lexer": "ipython2",
   "version": "2.7.12"
  }
 },
 "nbformat": 4,
 "nbformat_minor": 0
}
